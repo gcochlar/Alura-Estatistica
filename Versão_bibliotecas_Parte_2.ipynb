{
  "nbformat": 4,
  "nbformat_minor": 0,
  "metadata": {
    "colab": {
      "name": "Versão_bibliotecas_Parte_2.ipynb",
      "provenance": [],
      "collapsed_sections": [],
      "include_colab_link": true
    },
    "kernelspec": {
      "name": "python3",
      "display_name": "Python 3"
    }
  },
  "cells": [
    {
      "cell_type": "markdown",
      "metadata": {
        "id": "view-in-github",
        "colab_type": "text"
      },
      "source": [
        "<a href=\"https://colab.research.google.com/github/gcochlar/Alura-Estatistica/blob/main/Vers%C3%A3o_bibliotecas_Parte_2.ipynb\" target=\"_parent\"><img src=\"https://colab.research.google.com/assets/colab-badge.svg\" alt=\"Open In Colab\"/></a>"
      ]
    },
    {
      "cell_type": "markdown",
      "metadata": {
        "id": "ZthVMzd_AdeO"
      },
      "source": [
        "**Versões Necessárias para Fazer o Curso:**\n",
        "* Versão do pandas -> 0.23.4\n",
        "* Versão do numpy -> 1.16.2\n",
        "* Versão do scipy -> 1.2.1\n",
        "* Versão do matplotlib -> 3.0.3"
      ]
    },
    {
      "cell_type": "code",
      "metadata": {
        "id": "kffSOYcgir5Q",
        "colab": {
          "base_uri": "https://localhost:8080/"
        },
        "outputId": "84405679-1145-4a0c-c3dd-c33c523c7b93"
      },
      "source": [
        "import pandas, numpy, scipy, matplotlib\n",
        "\n",
        "print('Versão do pandas -> %s' % pandas.__version__)\n",
        "print('Versão do numpy -> %s' % numpy.__version__)\n",
        "print('Versão do scipy -> %s' % scipy.__version__)\n",
        "print('Versão do matplotlib -> %s' % matplotlib.__version__)"
      ],
      "execution_count": null,
      "outputs": [
        {
          "output_type": "stream",
          "text": [
            "Versão do pandas -> 1.1.5\n",
            "Versão do numpy -> 1.19.5\n",
            "Versão do scipy -> 1.4.1\n",
            "Versão do matplotlib -> 3.2.2\n"
          ],
          "name": "stdout"
        }
      ]
    }
  ]
}